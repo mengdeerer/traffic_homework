{
 "cells": [
  {
   "cell_type": "code",
   "execution_count": 7,
   "metadata": {},
   "outputs": [],
   "source": [
    "# -*- coding: utf-8 -*\n",
    "import numpy as np\n",
    "import cv2\n",
    "import math \n",
    "import time\n",
    "import matplotlib\n",
    "from skimage import morphology                                                                                                                                                      \n",
    "cap = cv2.VideoCapture('video.mp4')\n",
    "step = 15 #滑动窗格的高度\n",
    "block = 100 #滑动窗格的宽度\n",
    "height = 140 #裁剪的高度\n",
    "while True:\n",
    "    start = time.time()\n",
    "    _ , frame = cap.read()\n",
    "    frame=cv2.imread('frame/99.jpg')\n",
    "    frame1 = frame\n",
    "    frame2=cv2.Canny(frame,50,150)\n",
    "    cv2.imshow('frame', frame2)\n",
    "    cv2.waitKey(0)\n",
    "    # frame = frame[544 - height:544]]\n",
    "    #dst = cv2.blur(frame,(5,5))\n",
    "    dst = cv2.GaussianBlur(frame,(5,5),0) #对图像进行第一次高斯滤波\n",
    "    #dst = cv2.medianBlur(frame,5) \n",
    "    hsv = cv2.cvtColor(dst,cv2.COLOR_BGR2HSV) #使用HSV颜色空间\n",
    "    lower_blue = np.array([81,79,77])#设置需要识别的车道线颜色的阈值\n",
    "    upper_blue = np.array([161,255,185])\n",
    "    lower_yellow= np.array([15,43,46])\n",
    "    upper_yellow = np.array([40,255,255])\n",
    "    lower_white = np.array([0,0,200])\n",
    "    upper_white = np.array([180,30,255])\n",
    "    #dark_blue = np.uint8([[[12,22,121]]])\n",
    "    #dark_blue = cv2.cvtColor(dark_blue,cv2.COLOR_BGR2HSV)\n",
    "    # mask=cv2.inRange(hsv,lower_white,upper_white)\n",
    "    mask = cv2.inRange(hsv,lower_yellow,upper_yellow) + cv2.inRange(hsv,lower_white,upper_white) #提取所需颜色\n",
    "    #先腐蚀后膨胀\n",
    "    \n",
    "    #mask=cv2.inRange(hsv,lower_blue,upper_blue)\n",
    "    # mask = morphology.erosion(mask,morphology.square(width=5)) #形态学方法滤除噪声\n",
    "    # mask= morphology.dilation(mask,morphology.square(11))\n",
    "    # mask= morphology.erosion(mask,morphology.square(5))\n",
    "    # mask= morphology.dilation(mask,morphology.square(11))\n",
    "    cv2.imshow('mask1', mask)\n",
    "    cv2.imshow('frame', frame)\n",
    "    cv2.waitKey(0)\n",
    "    break"
   ]
  }
 ],
 "metadata": {
  "kernelspec": {
   "display_name": "torch",
   "language": "python",
   "name": "python3"
  },
  "language_info": {
   "codemirror_mode": {
    "name": "ipython",
    "version": 3
   },
   "file_extension": ".py",
   "mimetype": "text/x-python",
   "name": "python",
   "nbconvert_exporter": "python",
   "pygments_lexer": "ipython3",
   "version": "3.9.19"
  }
 },
 "nbformat": 4,
 "nbformat_minor": 2
}
